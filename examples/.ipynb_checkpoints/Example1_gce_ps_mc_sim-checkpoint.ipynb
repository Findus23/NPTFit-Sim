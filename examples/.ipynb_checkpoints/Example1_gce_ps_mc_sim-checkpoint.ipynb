{
 "cells": [
  {
   "cell_type": "markdown",
   "metadata": {},
   "source": [
    "# Example 1: GCE Point Source Monte Carlo Simulation"
   ]
  },
  {
   "cell_type": "markdown",
   "metadata": {},
   "source": [
    "This example covers how to run a point source Monte Carlo simulation for a given template and source count distribution (SCD) with NPTFit-Sim. In this example we use the Galactic Center Excess (GCE) template to produce a simulated counts map. The counts map is then run through NPTFit to recover the injected SCD."
   ]
  },
  {
   "cell_type": "markdown",
   "metadata": {},
   "source": [
    "The relevant modules are imported."
   ]
  },
  {
   "cell_type": "code",
   "execution_count": 36,
   "metadata": {},
   "outputs": [
    {
     "name": "stdout",
     "output_type": "stream",
     "text": [
      "The autoreload extension is already loaded. To reload it, use:\n",
      "  %reload_ext autoreload\n"
     ]
    }
   ],
   "source": [
    "%matplotlib inline\n",
    "%load_ext autoreload\n",
    "%autoreload 2\n",
    "\n",
    "import ps_mc\n",
    "import numpy as np\n",
    "import healpy as hp"
   ]
  },
  {
   "cell_type": "markdown",
   "metadata": {},
   "source": [
    "## Define Source Count Distribution & Load Templates"
   ]
  },
  {
   "cell_type": "markdown",
   "metadata": {},
   "source": [
    "Define the source count distribution. Here we use a SCD with one break."
   ]
  },
  {
   "cell_type": "code",
   "execution_count": 37,
   "metadata": {
    "collapsed": true
   },
   "outputs": [],
   "source": [
    "n = np.array([17.79,-0.99]) # indexes for SCD\n",
    "S = np.array([14.29]) # SCD break, here in terms of counts\n",
    "A = -2.34 # log-normilization\n",
    "name = \"example\" # Name of output file"
   ]
  },
  {
   "cell_type": "markdown",
   "metadata": {},
   "source": [
    "Load in the GCE template and exposure map."
   ]
  },
  {
   "cell_type": "code",
   "execution_count": 38,
   "metadata": {
    "collapsed": true
   },
   "outputs": [],
   "source": [
    "temp = \"../fermi_data/template_gce.npy\"\n",
    "exp = \"../fermi_data/fermidata_exposure.npy\""
   ]
  },
  {
   "cell_type": "markdown",
   "metadata": {},
   "source": [
    "The SCD as described above is in terms of counts. NPTFit-Sim uses source count distributions that are defined in terms of flux, i.e. dN/dF as opposed to dN/dS. The two distributions are related by the exposure as follows:"
   ]
  },
  {
   "cell_type": "markdown",
   "metadata": {},
   "source": [
    "$$\\frac{dN_{p}}{dS}(S;\\theta) = \\frac{1}{E_{p}} \\frac{dN_{p}}{dF}(F = S/E_{p};\\theta)$$"
   ]
  },
  {
   "cell_type": "markdown",
   "metadata": {},
   "source": [
    "To correct for this effect, the mean exposure is calculated from the Fermi exposure map and divided through the count break, $S$, to form a flux break. Additionally, the log-normilization, $A$, is multiplied by the log-mean exposure to transform the SCD in terms of counts to flux."
   ]
  },
  {
   "cell_type": "code",
   "execution_count": 39,
   "metadata": {
    "collapsed": true
   },
   "outputs": [],
   "source": [
    "# Calculate the mean Fermi exposure\n",
    "EXP = np.load(exp)\n",
    "mean_exp = np.mean(EXP)\n",
    "# Convert from counts to flux\n",
    "F = S / mean_exp\n",
    "# Multiply log-normilization term, A, by log-mean exposure to convert to SCD in terms of flux.\n",
    "cor_term = np.log10(mean_exp)\n",
    "A = A + cor_term"
   ]
  },
  {
   "cell_type": "markdown",
   "metadata": {},
   "source": [
    "## User Defined PSF"
   ]
  },
  {
   "cell_type": "markdown",
   "metadata": {},
   "source": [
    "Prior to running the simulation, the user must define a PSF using a lambda function. For simulating Fermi LAT data, a double King function is defined for a PSF at 2 GeV in this example. Note: depending on how your PSF is defined you will need to include the Jacobian factor."
   ]
  },
  {
   "cell_type": "code",
   "execution_count": 40,
   "metadata": {
    "collapsed": true
   },
   "outputs": [],
   "source": [
    "# Define parameters that specify the Fermi-LAT PSF at 2 GeV\n",
    "fcore = 0.748988248179\n",
    "score = 0.428653790656\n",
    "gcore = 7.82363229341\n",
    "stail = 0.715962650769\n",
    "gtail = 3.61883748683\n",
    "spe = 0.00456544262478\n",
    "\n",
    "# Define the full PSF in terms of two King functions\n",
    "def king_fn(x, sigma, gamma):\n",
    "    return 1./(2.*np.pi*sigma**2.)*(1.-1./gamma)*(1.+(x**2./(2.*gamma*sigma**2.)))**(-gamma)\n",
    "\n",
    "def Fermi_PSF(r):\n",
    "    return fcore*king_fn(r/spe,score,gcore) + (1-fcore)*king_fn(r/spe,stail,gtail)\n",
    "\n",
    "# Lambda function to pass user defined PSF, includes Jacobian factor\n",
    "psf_r = lambda r: np.sin(r) * Fermi_PSF(r)"
   ]
  },
  {
   "cell_type": "markdown",
   "metadata": {},
   "source": [
    "## Run NPTFit-Sim"
   ]
  },
  {
   "cell_type": "code",
   "execution_count": 41,
   "metadata": {
    "collapsed": true
   },
   "outputs": [],
   "source": [
    "# Output will be a file called name.npy\n",
    "#ps_mc.run(n,F,A,temp,exp,psf_r,name)"
   ]
  },
  {
   "cell_type": "markdown",
   "metadata": {},
   "source": [
    "When NPTFit-Sim is finnished, the counts map is stored to a .npy file in a Healpix format. Once made, this file can be loaded and displayed."
   ]
  },
  {
   "cell_type": "code",
   "execution_count": 42,
   "metadata": {
    "scrolled": false
   },
   "outputs": [
    {
     "data": {
      "image/png": "[encoded data removed]",
      "text/plain": [
       "<matplotlib.figure.Figure at 0x7f7ca8a155d0>"
      ]
     },
     "metadata": {},
     "output_type": "display_data"
    }
   ],
   "source": [
    "sim = np.load(\"example.npy\")\n",
    "hp.mollview(sim,title=\"GCE PS Monte Carlo\")\n",
    "plt.show()"
   ]
  },
  {
   "cell_type": "markdown",
   "metadata": {},
   "source": [
    "With our simulation of the GCE complete, we want to see if we can recover the injected source count distribution. To do this, we will use NPTFit.\n",
    "# Recover SCD with NPTFit\n",
    "To recover the injected source count distribution, we will run NPTFit using only the GCE PS templates. First, load in the relevant modules."
   ]
  },
  {
   "cell_type": "code",
   "execution_count": null,
   "metadata": {
    "collapsed": true
   },
   "outputs": [],
   "source": [
    "from NPTFit import nptfit\n",
    "from NPTFit import create_mask as cm\n",
    "from NPTFit import dnds_analysis\n",
    "from NPTFit import psf_correction as pc"
   ]
  },
  {
   "cell_type": "markdown",
   "metadata": {},
   "source": [
    "## Set Up Scan\n",
    "Begin with NPTFit as you normally would."
   ]
  },
  {
   "cell_type": "code",
   "execution_count": null,
   "metadata": {
    "collapsed": true
   },
   "outputs": [],
   "source": [
    "n = nptfit.NPTF(tag='GCE_Example')\n",
    "n.load_data(sim,EXP)\n",
    "\n",
    "gce = np.load(\"../../fermi_data/template_gce.npy\")\n",
    "# Remove exposure correction for PS\n",
    "rescale = EXP / np.mean(EXP)\n",
    "n.add_template(gce / rescale, 'gce_np', units='PS')\n",
    "\n",
    "#Add the Non-poisson model\n",
    "n.add_non_poiss_model('gce_np',\n",
    "                      ['$A_\\mathrm{gce}^\\mathrm{ps}$','$n_1^\\mathrm{gce}$','$n_2^\\mathrm{gce}$','$S_b^{(1), \\mathrm{gce}}$'],\n",
    "                      [[-6,1],[2.05,30],[-2,1.95],[0.05,40]],\n",
    "                      [True,False,False,False])\n",
    "\n",
    "# Modify the relevant parameters in pc_inst and then make or load the PSF\n",
    "pc_inst = pc.PSFCorrection(delay_compute=True)\n",
    "pc_inst.psf_r_func = lambda r: Fermi_PSF(r)\n",
    "pc_inst.sample_psf_max = 10.*spe*(score+stail)/2.\n",
    "pc_inst.psf_samples = 10000\n",
    "pc_inst.psf_tag = 'Fermi_PSF_2GeV'\n",
    "pc_inst.make_or_load_psf_corr()\n",
    "\n",
    "# Extract f_ary and df_rho_div_f_ary as usual\n",
    "f_ary = pc_inst.f_ary\n",
    "df_rho_div_f_ary = pc_inst.df_rho_div_f_ary\n",
    "\n",
    "#pc_inst = pc.PSFCorrection(psf_sigma_deg=0.1812)\n",
    "#f_ary, df_rho_div_f_ary = pc_inst.f_ary, pc_inst.df_rho_div_f_ary\n",
    "\n",
    "n.configure_for_scan(f_ary, df_rho_div_f_ary, nexp=1)\n",
    "\n",
    "#Run the scan\n",
    "n.perform_scan(nlive=750)\n",
    "\n",
    "n.load_scan()\n",
    "\n",
    "an = dnds_analysis.Analysis(n)\n",
    "\n",
    "an.make_triangle()\n",
    "\n",
    "plt.figure(figsize=[6,5])\n",
    "\n",
    "an.plot_source_count_median('gce_np',smin=0.01,smax=1000,nsteps=1000,color='firebrick',spow=0,label='GCE PS')\n",
    "an.plot_source_count_band('gce_np',smin=0.01,smax=1000,nsteps=1000,qs=[0.16,0.5,0.84],color='firebrick',alpha=0.15,spow=0)\n",
    "an.plot_source_count_band('gce_np',smin=0.01,smax=1000,nsteps=1000,qs=[0.025,0.5,0.975],color='firebrick',alpha=0.1,spow=0)\n",
    "\n",
    "plt.xlim([5e-11,5e-9])\n",
    "plt.ylim([2e5,2e9])\n",
    "plt.yscale('log')\n",
    "plt.xscale('log')\n",
    "plt.xlim(F[-1]*1e-4,F[0]*1e4)\n",
    "plt.tick_params(axis='x', length=5, width=2, labelsize=18)\n",
    "plt.tick_params(axis='y', length=5, width=2, labelsize=18)\n",
    "plt.ylabel('$dN/dF$ [counts$^{-1}$cm$^2$ s deg$^{-2}$]', fontsize=18)\n",
    "plt.xlabel('$F$  [counts cm$^{-2}$ s$^{-1}$]', fontsize=18)\n",
    "plt.title('Galactic Center NPTF', y=1.02)\n",
    "plt.legend(fancybox=True)"
   ]
  }
 ],
 "metadata": {
  "celltoolbar": "Raw Cell Format",
  "kernelspec": {
   "display_name": "Python 2",
   "language": "python",
   "name": "python2"
  },
  "language_info": {
   "codemirror_mode": {
    "name": "ipython",
    "version": 2
   },
   "file_extension": ".py",
   "mimetype": "text/x-python",
   "name": "python",
   "nbconvert_exporter": "python",
   "pygments_lexer": "ipython2",
   "version": "2.7.9"
  }
 },
 "nbformat": 4,
 "nbformat_minor": 2
}
